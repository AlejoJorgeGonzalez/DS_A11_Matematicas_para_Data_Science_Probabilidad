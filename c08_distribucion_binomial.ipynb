{
  "nbformat": 4,
  "nbformat_minor": 2,
  "metadata": {
    "colab": {
      "name": "[Clase8]Distribución_Binomial.ipynb",
      "provenance": [],
      "collapsed_sections": []
    },
    "kernelspec": {
      "name": "python3",
      "display_name": "Python 3.8.10 64-bit ('venv': venv)"
    },
    "language_info": {
      "name": "python",
      "version": "3.8.10",
      "mimetype": "text/x-python",
      "codemirror_mode": {
        "name": "ipython",
        "version": 3
      },
      "pygments_lexer": "ipython3",
      "nbconvert_exporter": "python",
      "file_extension": ".py"
    },
    "interpreter": {
      "hash": "3aafb0978dc9bb99c023e7bddbf7a0fae68067b88d9880eac8f69f876a8e7b7e"
    }
  },
  "cells": [
    {
      "cell_type": "code",
      "execution_count": 5,
      "source": [
        "# Numpy para el manejo de matrices y arreglos de números\n",
        "import numpy as np\n",
        "from numpy.random import binomial\n",
        "# scipy contiene difererentes funciones entre ellos para el cálculo \n",
        "#binomial\n",
        "from scipy.stats import binom\n",
        "# math para diversas operaciones mátematicas entre ellas el factorial\n",
        "from math import factorial\n",
        "# matplotlib para al graficación\n",
        "import matplotlib.pyplot as plt"
      ],
      "outputs": [],
      "metadata": {
        "id": "mk5PbdQ60KHF"
      }
    },
    {
      "cell_type": "markdown",
      "source": [
        "## Secuencias de eventos tipo Bernoulli\n",
        "\n",
        "$$\n",
        "P(k, n; p) = {n \\choose k} p^k (1-p)^{n-k} = \\frac{n!}{k!(n-k)!}p^k (1-p)^{n-k}\n",
        "$$"
      ],
      "metadata": {
        "id": "j0ZPLw1C275z"
      }
    },
    {
      "cell_type": "code",
      "execution_count": 7,
      "source": [
        "# definición de la distribución binomial \n",
        "def my_binomial(k, n, p):\n",
        "    # 'pow' permite elevar a la potencia, recibe dos parametros, el\n",
        "    # primero es la base y la segunda es el exponente\n",
        "    return factorial(n)/(factorial(k)*factorial(n - k))*pow(p,k)*pow(1-p,n-k)\n",
        "\n",
        "# Se prueba la probabilidad de tener dos veces el mismo lado de la \n",
        "# moneda, lanzandolo tres veces, suponiendo que la probabilidad de \n",
        "# que ocurra cara o sello es la misma del 50%\n",
        "print(my_binomial(2, 3, 0.5))"
      ],
      "outputs": [
        {
          "output_type": "stream",
          "name": "stdout",
          "text": [
            "0.375\n"
          ]
        }
      ],
      "metadata": {
        "id": "zV3MBWjh3q1I"
      }
    },
    {
      "cell_type": "markdown",
      "source": [
        "Se puede observar que efectivamente la probabilidad de tener dos veces el mismo lado con tres lanzamientos es de 3/8 o 0.375. Sin embargo, la librería de scipy, tiene una función llamada binom, que realiza este cálculo."
      ],
      "metadata": {}
    },
    {
      "cell_type": "code",
      "execution_count": 8,
      "source": [
        "# binom es una finción para hallar probabilidades binomiales, consta \n",
        "# de dos parametros, el primero es el número de intentos y el segundo\n",
        "# es la probabilidad de que ocurra el evento en un intento.\n",
        "dist = binom(3, 0.5)\n",
        "# Creado el objeto dist, este tiene una clase llamado pmf que es \n",
        "# probability max function, que es la densidad de probabilidad, se\n",
        "# le ingresa la cantidad de exitos a calcular\n",
        "dist.pmf(2)"
      ],
      "outputs": [
        {
          "output_type": "execute_result",
          "data": {
            "text/plain": [
              "0.3750000000000001"
            ]
          },
          "metadata": {},
          "execution_count": 8
        }
      ],
      "metadata": {}
    },
    {
      "cell_type": "markdown",
      "source": [
        "Con la función binom obtenemos el mismo resultado de 3/8"
      ],
      "metadata": {}
    },
    {
      "cell_type": "markdown",
      "source": [
        "## Validación del ejercicio hecho a mano\n",
        "\n",
        "$$\n",
        "P(k\\leq 2, n=3, p=1/2) = \\sum_{k=0}^2 \\left[ \\frac{n!}{k!(n-k)!}p^k (1-p)^{n-k} \\right] = \\frac{7}{8}\n",
        "$$\n",
        "\n",
        "Comprobación de la ecuación\n",
        "\n",
        "$$\n",
        "P(k\\leq 2, n=3, p=1/2) = \\sum_{k=0}^2 \\left[ \\frac{n!}{k!(n-k)!}p^k (1-p)^{n-k} \\right] \n",
        "$$\n",
        "\n",
        "$$\n",
        "para\\  k=0\n",
        "$$\n",
        "\n",
        "$$\n",
        "\\left[ \\frac{3!}{0!(3-0)!}(\\frac{1}{2})^0 (1-\\frac{1}{2})^{3-0} \\right] \n",
        "$$\n",
        "\n",
        "$$\n",
        "\\left[ \\frac{3!}{3!}(1) (\\frac{1}{2})^{3} \\right] \n",
        "$$\n",
        "\n",
        "$$\n",
        "\\left[ \\frac{1}{8} \\right] \n",
        "$$\n",
        "\n",
        "$$\n",
        "para\\  k=1\n",
        "$$\n",
        "\n",
        "$$\n",
        "\\left[ \\frac{3!}{1!(3-1)!}(\\frac{1}{2})^1 (1-\\frac{1}{2})^{3-1} \\right] \n",
        "$$\n",
        "\n",
        "$$\n",
        "\\left[ \\frac{3!}{2!}(\\frac{1}{2}) (\\frac{1}{2})^{2} \\right] \n",
        "$$\n",
        "\n",
        "$$\n",
        "\\left[ 3(\\frac{1}{2}) (\\frac{1}{4}) \\right] \n",
        "$$\n",
        "\n",
        "$$\n",
        "\\left[ \\frac{3}{8} \\right] \n",
        "$$\n",
        "\n",
        "$$\n",
        "para\\  k=2\n",
        "$$\n",
        "\n",
        "$$\n",
        "\\left[ \\frac{3!}{2!(3-2)!}(\\frac{1}{2})^2 (1-\\frac{1}{2})^{3-2} \\right] \n",
        "$$\n",
        "\n",
        "$$\n",
        "\\left[ \\frac{3!}{2!}(\\frac{1}{4}) (\\frac{1}{2}) \\right] \n",
        "$$\n",
        "\n",
        "$$\n",
        "\\left[ 3(\\frac{1}{4}) (\\frac{1}{2}) \\right] \n",
        "$$\n",
        "\n",
        "$$\n",
        "\\left[ \\frac{3}{8} \\right] \n",
        "$$\n",
        "\n",
        "$$\n",
        "\\sum_{k=0}^2 \\left[ \\frac{n!}{k!(n-k)!}p^k (1-p)^{n-k} \\right] =\\frac{1}{8}+\\frac{3}{8}+\\frac{3}{8}=\\frac{7}{8}\n",
        "$$"
      ],
      "metadata": {
        "id": "U6RH83Vfp5Jh"
      }
    },
    {
      "cell_type": "code",
      "execution_count": 9,
      "source": [
        "# La clase cdf o comulative density function, permite hallar la \n",
        "# probabilidad en una región dada\n",
        "dist.cdf(2)"
      ],
      "outputs": [
        {
          "output_type": "execute_result",
          "data": {
            "text/plain": [
              "0.875"
            ]
          },
          "metadata": {},
          "execution_count": 9
        }
      ],
      "metadata": {
        "id": "X6pS-e1k3E6D",
        "colab": {
          "base_uri": "https://localhost:8080/",
          "height": 51
        },
        "outputId": "cd416851-5324-41ff-bd6f-f8b3f4ffdd25"
      }
    },
    {
      "cell_type": "markdown",
      "source": [
        "La clase cdf, halla la probabilidad en el número y menor que el número que se ingresa, para este caso da efectivamente los 7/8 calculado anteriormente."
      ],
      "metadata": {}
    },
    {
      "cell_type": "markdown",
      "source": [
        "## Simulaciones de secuencias con generadores aleatorios\n",
        "\n",
        "* Los generadores aleatorios tienen como propósito simular muestras de datos que resultarían de muestreos en la vida real de procesos aleatorios como lanzar una moneda o un dado."
      ],
      "metadata": {
        "id": "HFfJnG06rO6I"
      }
    },
    {
      "cell_type": "code",
      "execution_count": 18,
      "source": [
        "# simulación con 100 lanzamientos de moneda equilibrada\n",
        "# (ejecuta esta celda varias veces para observar la variación en los \n",
        "# resultados)\n",
        "p = 0.5\n",
        "n = 3\n",
        "# Binomial pertence a la librería random, y lo que hace es crear una \n",
        "#simulación de lanzamiento, se le ingresa el número de lanzamientos y\n",
        "# la probabilidad de que caiga en cara, nos arroja como resultado,\n",
        "# el número de exitos de manera simulada\n",
        "binomial(n, p)"
      ],
      "outputs": [
        {
          "output_type": "execute_result",
          "data": {
            "text/plain": [
              "2"
            ]
          },
          "metadata": {},
          "execution_count": 18
        }
      ],
      "metadata": {
        "id": "DgvwIIkD2hbo",
        "colab": {
          "base_uri": "https://localhost:8080/",
          "height": 34
        },
        "outputId": "aedf8147-4565-41f9-94cb-257f37ffe4d4"
      }
    },
    {
      "cell_type": "code",
      "execution_count": 19,
      "source": [
        "# Vamos a hacer un experimento generando una muestra de conjuntos de \n",
        "# lanzamientos de a 3 monedas\n",
        "# Se crea primero un matriz o arreglo donde se van a guardar los \n",
        "#resultados\n",
        "arr = []\n",
        "for _ in range(100):\n",
        "    arr.append(binomial(n, p))\n",
        "\n",
        "arr"
      ],
      "outputs": [
        {
          "output_type": "execute_result",
          "data": {
            "text/plain": [
              "[1,\n",
              " 2,\n",
              " 1,\n",
              " 1,\n",
              " 2,\n",
              " 2,\n",
              " 1,\n",
              " 2,\n",
              " 1,\n",
              " 0,\n",
              " 2,\n",
              " 3,\n",
              " 2,\n",
              " 0,\n",
              " 2,\n",
              " 1,\n",
              " 1,\n",
              " 2,\n",
              " 0,\n",
              " 2,\n",
              " 1,\n",
              " 0,\n",
              " 1,\n",
              " 1,\n",
              " 2,\n",
              " 2,\n",
              " 1,\n",
              " 2,\n",
              " 0,\n",
              " 2,\n",
              " 2,\n",
              " 2,\n",
              " 1,\n",
              " 2,\n",
              " 3,\n",
              " 0,\n",
              " 3,\n",
              " 1,\n",
              " 1,\n",
              " 0,\n",
              " 1,\n",
              " 2,\n",
              " 2,\n",
              " 0,\n",
              " 1,\n",
              " 1,\n",
              " 2,\n",
              " 1,\n",
              " 1,\n",
              " 0,\n",
              " 2,\n",
              " 2,\n",
              " 1,\n",
              " 0,\n",
              " 1,\n",
              " 0,\n",
              " 3,\n",
              " 3,\n",
              " 1,\n",
              " 2,\n",
              " 2,\n",
              " 2,\n",
              " 3,\n",
              " 1,\n",
              " 2,\n",
              " 2,\n",
              " 1,\n",
              " 3,\n",
              " 2,\n",
              " 2,\n",
              " 2,\n",
              " 3,\n",
              " 1,\n",
              " 1,\n",
              " 1,\n",
              " 2,\n",
              " 3,\n",
              " 2,\n",
              " 2,\n",
              " 1,\n",
              " 0,\n",
              " 1,\n",
              " 1,\n",
              " 2,\n",
              " 0,\n",
              " 1,\n",
              " 2,\n",
              " 2,\n",
              " 2,\n",
              " 1,\n",
              " 1,\n",
              " 0,\n",
              " 1,\n",
              " 2,\n",
              " 2,\n",
              " 1,\n",
              " 1,\n",
              " 2,\n",
              " 2,\n",
              " 1]"
            ]
          },
          "metadata": {},
          "execution_count": 19
        }
      ],
      "metadata": {
        "id": "TjFgKhWFsjom"
      }
    },
    {
      "cell_type": "code",
      "execution_count": 20,
      "source": [
        "# Se dibuja los resultados, num trials es el número de intentos\n",
        "def plot_hist(num_trials):\n",
        "    values = [0, 1, 2, 3]\n",
        "    arr = []\n",
        "    for _ in range(num_trials):\n",
        "        arr.append(binomial(n, p))"
      ],
      "outputs": [],
      "metadata": {
        "id": "v7hIwGTDs3Um",
        "colab": {
          "base_uri": "https://localhost:8080/",
          "height": 809
        },
        "outputId": "cc358045-f1be-4518-90da-1d5f82de0c11"
      }
    },
    {
      "cell_type": "code",
      "execution_count": 21,
      "source": [
        "# La función unique, agrupa los elementos que se repiten en un array\n",
        "# pero con el parametro return_counts=true, devuelve la cantidad de \n",
        "# veces que aparece en el array\n",
        "np.unique(arr, return_counts=True)"
      ],
      "outputs": [
        {
          "output_type": "execute_result",
          "data": {
            "text/plain": [
              "(array([0, 1, 2, 3]), array([14, 37, 40,  9]))"
            ]
          },
          "metadata": {},
          "execution_count": 21
        }
      ],
      "metadata": {
        "id": "qFlIUh5s0Jv_"
      }
    },
    {
      "cell_type": "markdown",
      "source": [
        "Con np.unique, muestra primero los elementos que se encuentra en el array y segundo un array con las veces que se repite."
      ],
      "metadata": {}
    },
    {
      "cell_type": "code",
      "execution_count": 23,
      "source": [
        "# Tomamos las veces que se repite el elemento y se divide por la \n",
        "# longitud del array para hallar su porcentaje\n",
        "sim = np.unique(arr, return_counts=True)[1]/len(arr)\n",
        "sim"
      ],
      "outputs": [
        {
          "output_type": "execute_result",
          "data": {
            "text/plain": [
              "array([0.14, 0.37, 0.4 , 0.09])"
            ]
          },
          "metadata": {},
          "execution_count": 23
        }
      ],
      "metadata": {}
    },
    {
      "cell_type": "code",
      "execution_count": 25,
      "source": [
        "# Se calcula la probabilidad teorica\n",
        "values = [0, 1, 2, 3]\n",
        "teorica = [binom(3, 0.5).pmf(k) for k in values]\n",
        "teorica"
      ],
      "outputs": [
        {
          "output_type": "execute_result",
          "data": {
            "text/plain": [
              "[0.125, 0.3750000000000001, 0.3750000000000001, 0.125]"
            ]
          },
          "metadata": {},
          "execution_count": 25
        }
      ],
      "metadata": {}
    },
    {
      "cell_type": "markdown",
      "source": [
        "Se vuelve a escribir el código desde la creación de la función"
      ],
      "metadata": {}
    },
    {
      "cell_type": "code",
      "execution_count": 33,
      "source": [
        "def plot_hist(num_trials):\n",
        "    values = [0, 1, 2, 3]\n",
        "    arr = []\n",
        "    for _ in range(num_trials):\n",
        "        arr.append(binomial(n, p))\n",
        "    # Se halla la probabilidad simulada\n",
        "    sim = np.unique(arr, return_counts=True)[1]/len(arr)\n",
        "    # Se halla la probabilidad teorica\n",
        "    teorica = [binom(3, 0.5).pmf(k) for k in values]\n",
        "    # Se dibuja la gráfica de los dos resultados\n",
        "    plt.bar(values, sim, color='red')\n",
        "    plt.bar(values, teorica, alpha=0.5, color='blue')\n",
        "    plt.title('{} experimentos'.format(num_trials))\n",
        "    plt.show()\n",
        "\n",
        "plot_hist(20)\n",
        "plot_hist(200)\n",
        "plot_hist(200000)"
      ],
      "outputs": [
        {
          "output_type": "display_data",
          "data": {
            "image/png": "[encoded data removed]",
            "text/plain": [
              "<Figure size 432x288 with 1 Axes>"
            ]
          },
          "metadata": {
            "needs_background": "light"
          }
        },
        {
          "output_type": "display_data",
          "data": {
            "image/png": "[encoded data removed]",
            "text/plain": [
              "<Figure size 432x288 with 1 Axes>"
            ]
          },
          "metadata": {
            "needs_background": "light"
          }
        },
        {
          "output_type": "display_data",
          "data": {
            "image/png": "[encoded data removed]",
            "text/plain": [
              "<Figure size 432x288 with 1 Axes>"
            ]
          },
          "metadata": {
            "needs_background": "light"
          }
        }
      ],
      "metadata": {}
    },
    {
      "cell_type": "markdown",
      "source": [
        "Se puede comprobar que al aumentar el numero simulacros, las probabilidades simuladas se acercan a las probabilidades teoricas"
      ],
      "metadata": {}
    },
    {
      "cell_type": "markdown",
      "source": [
        "## ENLACES EXTERNOS\n",
        "\n",
        "[Google Colab](https://colab.research.google.com/)\n",
        "\n",
        "[Archivo Clase](https://colab.research.google.com/drive/1MR9VZg19vHyZhvWWuxtNcy_3PZQ7AfwW?usp=sharing)\n",
        "\n",
        "[scipy](https://docs.scipy.org/doc/scipy/reference/generated/scipy.stats.binom.html)\n",
        "\n",
        "[numpy](https://docs.scipy.org/doc/numpy-1.14.1/reference/generated/numpy.random.binomial.html)"
      ],
      "metadata": {}
    }
  ]
}